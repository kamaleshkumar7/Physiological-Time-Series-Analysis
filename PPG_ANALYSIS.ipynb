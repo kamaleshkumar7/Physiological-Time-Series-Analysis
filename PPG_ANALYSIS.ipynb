{
 "cells": [
  {
   "cell_type": "code",
   "execution_count": null,
   "id": "121e780c",
   "metadata": {},
   "outputs": [],
   "source": [
    "import scipy.io\n",
    "import numpy as np\n",
    "import matplotlib.pyplot as plt\n",
    "from scipy import stats\n",
    "import statsmodels.api as sm\n",
    "from statsmodels.formula.api import ols"
   ]
  },
  {
   "cell_type": "code",
   "execution_count": 3,
   "id": "e1ab719f",
   "metadata": {},
   "outputs": [],
   "source": [
    "def calculate_PPT(ppg, ecg, start_time, end_time):\n",
    "    ppg_peak_idx = np.argmax(ppg[start_time:end_time])\n",
    "    ecg_rwave_idx = np.argmax(ecg[start_time:end_time])\n",
    "    ppt = ppg_peak_idx - ecg_rwave_idx\n",
    "    return ppt\n",
    "\n",
    "def plot_PPT(ppt_data, block_num):\n",
    "    plt.figure()\n",
    "    plt.plot(np.arange(len(ppt_data)), ppt_data)\n",
    "    plt.title(f'Block {block_num} PPT')\n",
    "    plt.xlabel('Time (s)')\n",
    "    plt.ylabel('PPT (ms)')\n",
    "    plt.show()\n",
    "\n",
    "def mean_block_ppt(data):\n",
    "    block_start = data['bp_data'][0][0][6]\n",
    "    block_duration = np.diff(np.concatenate(([0], block_start.flatten())))\n",
    "    bp_data = data['bp_data'][0][0][0]\n",
    "    ecg = bp_data[:, 1]\n",
    "    ppg = bp_data[:, 0]\n",
    "    time = np.arange(0, len(ppg))\n",
    "    \n",
    "    # Initialize lists to store PPT values for each block\n",
    "    block1_ppt = []\n",
    "    block2_ppt = []\n",
    "    block3_ppt = []\n",
    "    block4_ppt = []\n",
    "    block5_ppt = []\n",
    "    block6_ppt = []\n",
    "    block7_ppt = []\n",
    "\n",
    "    # Calculate PPT values for each block\n",
    "    for i in range(len(block_start)):\n",
    "        start_time = block_start[i]\n",
    "        end_time = block_start[i] + block_duration\n",
    "        ppt = calculate_PPT(ppg, ecg, start_time, end_time)\n",
    "        if i == 0:\n",
    "            block1_ppt.append(ppt)\n",
    "        elif i == 1:\n",
    "            block2_ppt.append(ppt)\n",
    "        elif i == 2:\n",
    "            block3_ppt.append(ppt)\n",
    "        elif i == 3:\n",
    "            block4_ppt.append(ppt)\n",
    "        elif i == 4:\n",
    "            block5_ppt.append(ppt)\n",
    "        elif i == 5:\n",
    "            block6_ppt.append(ppt)\n",
    "        elif i == 6:\n",
    "            block7_ppt.append(ppt)\n",
    "\n",
    "    # Calculate mean PPT values for each block\n",
    "    mean_ppt = []\n",
    "    for i, block in enumerate([block1_ppt, block2_ppt, block3_ppt, block4_ppt, block5_ppt, block6_ppt, block7_ppt]):\n",
    "        mean_ppt.append(np.mean(block))\n",
    "        plot_PPT(block, i+1)\n",
    "\n",
    "    return mean_ppt"
   ]
  },
  {
   "cell_type": "code",
   "execution_count": 4,
   "id": "20119fae",
   "metadata": {},
   "outputs": [
    {
     "ename": "TypeError",
     "evalue": "only integer scalar arrays can be converted to a scalar index",
     "output_type": "error",
     "traceback": [
      "\u001b[1;31m---------------------------------------------------------------------------\u001b[0m",
      "\u001b[1;31mTypeError\u001b[0m                                 Traceback (most recent call last)",
      "Input \u001b[1;32mIn [4]\u001b[0m, in \u001b[0;36m<cell line: 14>\u001b[1;34m()\u001b[0m\n\u001b[0;32m     16\u001b[0m mat_data \u001b[38;5;241m=\u001b[39m scipy\u001b[38;5;241m.\u001b[39mio\u001b[38;5;241m.\u001b[39mloadmat(file_path)\n\u001b[0;32m     18\u001b[0m \u001b[38;5;66;03m# Get mean SCL values for the current file\u001b[39;00m\n\u001b[1;32m---> 19\u001b[0m block_scl \u001b[38;5;241m=\u001b[39m \u001b[43mmean_block_ppt\u001b[49m\u001b[43m(\u001b[49m\u001b[43mmat_data\u001b[49m\u001b[43m)\u001b[49m\n\u001b[0;32m     20\u001b[0m \u001b[38;5;28mprint\u001b[39m(block_scl)\n",
      "Input \u001b[1;32mIn [3]\u001b[0m, in \u001b[0;36mmean_block_ppt\u001b[1;34m(data)\u001b[0m\n\u001b[0;32m     34\u001b[0m start_time \u001b[38;5;241m=\u001b[39m block_start[i]\n\u001b[0;32m     35\u001b[0m end_time \u001b[38;5;241m=\u001b[39m block_start[i] \u001b[38;5;241m+\u001b[39m block_duration\n\u001b[1;32m---> 36\u001b[0m ppt \u001b[38;5;241m=\u001b[39m \u001b[43mcalculate_PPT\u001b[49m\u001b[43m(\u001b[49m\u001b[43mppg\u001b[49m\u001b[43m,\u001b[49m\u001b[43m \u001b[49m\u001b[43mecg\u001b[49m\u001b[43m,\u001b[49m\u001b[43m \u001b[49m\u001b[43mstart_time\u001b[49m\u001b[43m,\u001b[49m\u001b[43m \u001b[49m\u001b[43mend_time\u001b[49m\u001b[43m)\u001b[49m\n\u001b[0;32m     37\u001b[0m \u001b[38;5;28;01mif\u001b[39;00m i \u001b[38;5;241m==\u001b[39m \u001b[38;5;241m0\u001b[39m:\n\u001b[0;32m     38\u001b[0m     block1_ppt\u001b[38;5;241m.\u001b[39mappend(ppt)\n",
      "Input \u001b[1;32mIn [3]\u001b[0m, in \u001b[0;36mcalculate_PPT\u001b[1;34m(ppg, ecg, start_time, end_time)\u001b[0m\n\u001b[0;32m      1\u001b[0m \u001b[38;5;28;01mdef\u001b[39;00m \u001b[38;5;21mcalculate_PPT\u001b[39m(ppg, ecg, start_time, end_time):\n\u001b[1;32m----> 2\u001b[0m     ppg_peak_idx \u001b[38;5;241m=\u001b[39m np\u001b[38;5;241m.\u001b[39margmax(\u001b[43mppg\u001b[49m\u001b[43m[\u001b[49m\u001b[43mstart_time\u001b[49m\u001b[43m:\u001b[49m\u001b[43mend_time\u001b[49m\u001b[43m]\u001b[49m)\n\u001b[0;32m      3\u001b[0m     ecg_rwave_idx \u001b[38;5;241m=\u001b[39m np\u001b[38;5;241m.\u001b[39margmax(ecg[start_time:end_time])\n\u001b[0;32m      4\u001b[0m     ppt \u001b[38;5;241m=\u001b[39m ppg_peak_idx \u001b[38;5;241m-\u001b[39m ecg_rwave_idx\n",
      "\u001b[1;31mTypeError\u001b[0m: only integer scalar arrays can be converted to a scalar index"
     ]
    }
   ],
   "source": [
    "import scipy.io\n",
    "import numpy as np\n",
    "from scipy import stats\n",
    "import pandas as pd\n",
    "import statsmodels.api as sm\n",
    "from statsmodels.formula.api import ols\n",
    "\n",
    "# Define file path and range of files to process\n",
    "file_name = 'Physio_Events_'\n",
    "file_prefix = 'D:/IU/Academics/Semester 2/DATA SCI OF PHYSIO TIME SERIE/Final Project/records/'+file_name\n",
    "file_range = range(8, 30)\n",
    "\n",
    "# Process each file in the specified range\n",
    "for i in file_range:\n",
    "    file_path = file_prefix + str(i) + '.mat'\n",
    "    mat_data = scipy.io.loadmat(file_path)\n",
    "    \n",
    "    # Get mean SCL values for the current file\n",
    "    block_scl = mean_block_ppt(mat_data)\n",
    "    print(block_scl)"
   ]
  },
  {
   "cell_type": "code",
   "execution_count": null,
   "id": "e2ff0253",
   "metadata": {},
   "outputs": [],
   "source": []
  }
 ],
 "metadata": {
  "kernelspec": {
   "display_name": "Python 3 (ipykernel)",
   "language": "python",
   "name": "python3"
  },
  "language_info": {
   "codemirror_mode": {
    "name": "ipython",
    "version": 3
   },
   "file_extension": ".py",
   "mimetype": "text/x-python",
   "name": "python",
   "nbconvert_exporter": "python",
   "pygments_lexer": "ipython3",
   "version": "3.10.5"
  }
 },
 "nbformat": 4,
 "nbformat_minor": 5
}
